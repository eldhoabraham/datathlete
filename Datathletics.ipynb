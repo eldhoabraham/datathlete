{
 "cells": [
  {
   "cell_type": "code",
   "execution_count": 1,
   "metadata": {
    "collapsed": false
   },
   "outputs": [
    {
     "name": "stdout",
     "output_type": "stream",
     "text": [
      "Python version 3.6.0 |Anaconda 4.3.1 (x86_64)| (default, Dec 23 2016, 13:19:00) \n",
      "[GCC 4.2.1 Compatible Apple LLVM 6.0 (clang-600.0.57)]\n",
      "Pandas version 0.19.2\n",
      "Matplotlib version 2.0.0\n"
     ]
    }
   ],
   "source": [
    "# Import all libraries needed for the tutorial\n",
    "\n",
    "# General syntax to import specific functions in a library: \n",
    "##from (library) import (specific library function)\n",
    "from pandas import DataFrame, read_csv\n",
    "\n",
    "# General syntax to import a library but no functions: \n",
    "##import (library) as (give the library a nickname/alias)\n",
    "import matplotlib.pyplot as plt\n",
    "import pandas as pd #this is how I usually import pandas\n",
    "import sys #only needed to determine Python version number\n",
    "import matplotlib #only needed to determine Matplotlib version number\n",
    "\n",
    "# Enable inline plotting\n",
    "%matplotlib inline\n",
    "print('Python version ' + sys.version)\n",
    "print('Pandas version ' + pd.__version__)\n",
    "print('Matplotlib version ' + matplotlib.__version__)"
   ]
  },
  {
   "cell_type": "code",
   "execution_count": 2,
   "metadata": {
    "collapsed": false
   },
   "outputs": [
    {
     "name": "stdout",
     "output_type": "stream",
     "text": [
      "<class 'str'>\n"
     ]
    },
    {
     "name": "stderr",
     "output_type": "stream",
     "text": [
      "/Users/eabraham/anaconda/lib/python3.6/site-packages/ipykernel/__main__.py:7: SettingWithCopyWarning: \n",
      "A value is trying to be set on a copy of a slice from a DataFrame\n",
      "\n",
      "See the caveats in the documentation: http://pandas.pydata.org/pandas-docs/stable/indexing.html#indexing-view-versus-copy\n",
      "/Users/eabraham/anaconda/lib/python3.6/site-packages/ipykernel/__main__.py:8: SettingWithCopyWarning: \n",
      "A value is trying to be set on a copy of a slice from a DataFrame\n",
      "\n",
      "See the caveats in the documentation: http://pandas.pydata.org/pandas-docs/stable/indexing.html#indexing-view-versus-copy\n"
     ]
    },
    {
     "name": "stdout",
     "output_type": "stream",
     "text": [
      "<class 'str'>\n"
     ]
    },
    {
     "name": "stderr",
     "output_type": "stream",
     "text": [
      "/Users/eabraham/anaconda/lib/python3.6/site-packages/ipykernel/__main__.py:19: SettingWithCopyWarning: \n",
      "A value is trying to be set on a copy of a slice from a DataFrame\n",
      "\n",
      "See the caveats in the documentation: http://pandas.pydata.org/pandas-docs/stable/indexing.html#indexing-view-versus-copy\n",
      "/Users/eabraham/anaconda/lib/python3.6/site-packages/ipykernel/__main__.py:20: SettingWithCopyWarning: \n",
      "A value is trying to be set on a copy of a slice from a DataFrame\n",
      "\n",
      "See the caveats in the documentation: http://pandas.pydata.org/pandas-docs/stable/indexing.html#indexing-view-versus-copy\n"
     ]
    }
   ],
   "source": [
    "Location = r'train.csv'\n",
    "df = pd.read_csv(Location, parse_dates=['Date'])\n",
    "print(type(df[\"Hour\"][0]))\n",
    "\n",
    "#converting the 'Hour' column to Numbers for training\n",
    "for i, row in df.iterrows():  #i: dataframe index; row: each row in series format\n",
    "    df['Hour'][i] = int(df['Hour'][i][:2])\n",
    "    df['Total'][i] = int(df['Total'][i] - df['Excluded'][i])\n",
    "    \n",
    "#print(df.head())\n",
    "\n",
    "#testing Data\n",
    "Location = r'test.csv'\n",
    "test_df = pd.read_csv(Location, parse_dates=['Date'])\n",
    "print(type(test_df[\"Hour\"][0]))\n",
    "\n",
    "#converting the 'Hour' column to Numbers for testing\n",
    "for i, row in test_df.iterrows():  #i: dataframe index; row: each row in series format\n",
    "    test_df['Hour'][i] = int(test_df['Hour'][i][:2])\n",
    "    test_df['Total'][i] = int(test_df['Total'][i] - test_df['Excluded'][i])"
   ]
  },
  {
   "cell_type": "code",
   "execution_count": 3,
   "metadata": {
    "collapsed": false
   },
   "outputs": [
    {
     "name": "stdout",
     "output_type": "stream",
     "text": [
      "[[0 410 3 11 16]\n",
      " [2 137 1 5 6]\n",
      " [6 167 1 12 10]\n",
      " ..., \n",
      " [21 278 1 12 22]\n",
      " [22 167 1 12 11]\n",
      " [23 312 2 12 12]]\n",
      "[[0 410 3 11]\n",
      " [2 137 1 5]\n",
      " [6 167 1 12]\n",
      " ..., \n",
      " [21 278 1 12]\n",
      " [22 167 1 12]\n",
      " [23 312 2 12]]\n",
      "[16 6 10 ..., 22 11 12]\n"
     ]
    },
    {
     "data": {
      "text/html": [
       "<div>\n",
       "<table border=\"1\" class=\"dataframe\">\n",
       "  <thead>\n",
       "    <tr style=\"text-align: right;\">\n",
       "      <th></th>\n",
       "      <th>Date</th>\n",
       "      <th>Hour</th>\n",
       "      <th>Excluded</th>\n",
       "      <th>Total</th>\n",
       "      <th>Flights</th>\n",
       "      <th>Booths</th>\n",
       "      <th>AvgWtTime</th>\n",
       "    </tr>\n",
       "  </thead>\n",
       "  <tbody>\n",
       "    <tr>\n",
       "      <th>0</th>\n",
       "      <td>2017-05-01</td>\n",
       "      <td>0</td>\n",
       "      <td>14</td>\n",
       "      <td>410</td>\n",
       "      <td>3</td>\n",
       "      <td>11</td>\n",
       "      <td>16</td>\n",
       "    </tr>\n",
       "    <tr>\n",
       "      <th>1</th>\n",
       "      <td>2017-05-01</td>\n",
       "      <td>2</td>\n",
       "      <td>3</td>\n",
       "      <td>137</td>\n",
       "      <td>1</td>\n",
       "      <td>5</td>\n",
       "      <td>6</td>\n",
       "    </tr>\n",
       "    <tr>\n",
       "      <th>2</th>\n",
       "      <td>2017-05-01</td>\n",
       "      <td>6</td>\n",
       "      <td>6</td>\n",
       "      <td>167</td>\n",
       "      <td>1</td>\n",
       "      <td>12</td>\n",
       "      <td>10</td>\n",
       "    </tr>\n",
       "    <tr>\n",
       "      <th>3</th>\n",
       "      <td>2017-05-01</td>\n",
       "      <td>7</td>\n",
       "      <td>11</td>\n",
       "      <td>329</td>\n",
       "      <td>1</td>\n",
       "      <td>12</td>\n",
       "      <td>22</td>\n",
       "    </tr>\n",
       "    <tr>\n",
       "      <th>4</th>\n",
       "      <td>2017-05-01</td>\n",
       "      <td>8</td>\n",
       "      <td>12</td>\n",
       "      <td>410</td>\n",
       "      <td>2</td>\n",
       "      <td>11</td>\n",
       "      <td>10</td>\n",
       "    </tr>\n",
       "  </tbody>\n",
       "</table>\n",
       "</div>"
      ],
      "text/plain": [
       "        Date Hour  Excluded  Total  Flights  Booths  AvgWtTime\n",
       "0 2017-05-01    0        14    410        3      11         16\n",
       "1 2017-05-01    2         3    137        1       5          6\n",
       "2 2017-05-01    6         6    167        1      12         10\n",
       "3 2017-05-01    7        11    329        1      12         22\n",
       "4 2017-05-01    8        12    410        2      11         10"
      ]
     },
     "execution_count": 3,
     "metadata": {},
     "output_type": "execute_result"
    }
   ],
   "source": [
    "#select columns here for features\n",
    "flightDataPd = df[['Hour', 'Total','Flights','Booths','AvgWtTime']]\n",
    "flightData = flightDataPd.as_matrix(columns=flightDataPd.columns[0:])\n",
    "print(flightData)\n",
    "#change the length of the features based on the selection\n",
    "featureLength = 4\n",
    "data_X_train = flightData[:,0:featureLength]\n",
    "print(data_X_train)\n",
    "data_y_train = flightData[:,featureLength]\n",
    "print(data_y_train)\n",
    "df.head()"
   ]
  },
  {
   "cell_type": "code",
   "execution_count": 4,
   "metadata": {
    "collapsed": false
   },
   "outputs": [
    {
     "data": {
      "text/html": [
       "<div>\n",
       "<table border=\"1\" class=\"dataframe\">\n",
       "  <thead>\n",
       "    <tr style=\"text-align: right;\">\n",
       "      <th></th>\n",
       "      <th>Date</th>\n",
       "      <th>Hour</th>\n",
       "      <th>Excluded</th>\n",
       "      <th>Total</th>\n",
       "      <th>Flights</th>\n",
       "      <th>Booths</th>\n",
       "    </tr>\n",
       "  </thead>\n",
       "  <tbody>\n",
       "    <tr>\n",
       "      <th>0</th>\n",
       "      <td>2017-07-01</td>\n",
       "      <td>0</td>\n",
       "      <td>14</td>\n",
       "      <td>300</td>\n",
       "      <td>2</td>\n",
       "      <td>12</td>\n",
       "    </tr>\n",
       "    <tr>\n",
       "      <th>1</th>\n",
       "      <td>2017-07-01</td>\n",
       "      <td>4</td>\n",
       "      <td>7</td>\n",
       "      <td>143</td>\n",
       "      <td>1</td>\n",
       "      <td>4</td>\n",
       "    </tr>\n",
       "    <tr>\n",
       "      <th>2</th>\n",
       "      <td>2017-07-01</td>\n",
       "      <td>6</td>\n",
       "      <td>12</td>\n",
       "      <td>411</td>\n",
       "      <td>2</td>\n",
       "      <td>13</td>\n",
       "    </tr>\n",
       "    <tr>\n",
       "      <th>3</th>\n",
       "      <td>2017-07-01</td>\n",
       "      <td>7</td>\n",
       "      <td>11</td>\n",
       "      <td>312</td>\n",
       "      <td>1</td>\n",
       "      <td>16</td>\n",
       "    </tr>\n",
       "    <tr>\n",
       "      <th>4</th>\n",
       "      <td>2017-07-01</td>\n",
       "      <td>8</td>\n",
       "      <td>17</td>\n",
       "      <td>427</td>\n",
       "      <td>2</td>\n",
       "      <td>14</td>\n",
       "    </tr>\n",
       "  </tbody>\n",
       "</table>\n",
       "</div>"
      ],
      "text/plain": [
       "        Date Hour  Excluded  Total  Flights  Booths\n",
       "0 2017-07-01    0        14    300        2      12\n",
       "1 2017-07-01    4         7    143        1       4\n",
       "2 2017-07-01    6        12    411        2      13\n",
       "3 2017-07-01    7        11    312        1      16\n",
       "4 2017-07-01    8        17    427        2      14"
      ]
     },
     "execution_count": 4,
     "metadata": {},
     "output_type": "execute_result"
    }
   ],
   "source": [
    "#select columns here for features\n",
    "flightDataTestPd = test_df[['Hour','Total','Flights','Booths']]\n",
    "flightDataTest = flightDataTestPd.as_matrix(columns=flightDataTestPd.columns[0:])\n",
    "\n",
    "#change the length of the features based on the selection\n",
    "data_X_test = flightDataTest[:,0:featureLength]\n",
    "#data_y_test = flightDataTest[:,featureLength-1]\n",
    "#print(data_y_test)\n",
    "test_df.head()"
   ]
  },
  {
   "cell_type": "code",
   "execution_count": 5,
   "metadata": {
    "collapsed": false
   },
   "outputs": [
    {
     "name": "stdout",
     "output_type": "stream",
     "text": [
      "Coefficients: \n",
      " [-0.15286082  0.00814427 -1.02975016  0.04001811]\n"
     ]
    }
   ],
   "source": [
    "import matplotlib.pyplot as plt\n",
    "import numpy as np\n",
    "from sklearn import datasets, linear_model\n",
    "from sklearn.metrics import mean_squared_error, r2_score\n",
    "from sklearn.model_selection import train_test_split\n",
    "\n",
    "\n",
    "#data_X_train, data_X_test, data_y_train, data_y_test = train_test_split(X, y, test_size=0, random_state=42)\n",
    "\n",
    "\n",
    "# Create linear regression object\n",
    "regr = linear_model.LinearRegression(normalize=True)\n",
    "\n",
    "# Train the model using the training sets\n",
    "regr.fit(data_X_train, data_y_train)\n",
    "\n",
    "# Make predictions using the testing set\n",
    "data_y_pred = regr.predict(data_X_test)\n",
    "df_y_pred = pd.DataFrame(data_y_pred)\n",
    "prediction_location = r'prediction.csv'\n",
    "df_y_pred.to_csv(prediction_location, index=False, header=['AvgWtTime'])\n",
    "# The coefficients\n",
    "print('Coefficients: \\n', regr.coef_)\n",
    "# The mean squared error\n",
    "#print(\"Mean squared error: %.2f\"\n",
    "#      % mean_squared_error(data_y_test, data_y_pred))\n",
    "# Explained variance score: 1 is perfect prediction\n",
    "#print('Variance score: %.2f' % r2_score(data_y_test, data_y_pred))\n",
    "\n"
   ]
  },
  {
   "cell_type": "code",
   "execution_count": 6,
   "metadata": {
    "collapsed": false,
    "scrolled": false
   },
   "outputs": [
    {
     "name": "stdout",
     "output_type": "stream",
     "text": [
      "(593, 4)\n"
     ]
    }
   ],
   "source": [
    "print(data_X_test.shape)\n",
    "#print(data_y_test.shape)"
   ]
  },
  {
   "cell_type": "code",
   "execution_count": null,
   "metadata": {
    "collapsed": true
   },
   "outputs": [],
   "source": []
  }
 ],
 "metadata": {
  "kernelspec": {
   "display_name": "Python 3",
   "language": "python",
   "name": "python3"
  },
  "language_info": {
   "codemirror_mode": {
    "name": "ipython",
    "version": 3
   },
   "file_extension": ".py",
   "mimetype": "text/x-python",
   "name": "python",
   "nbconvert_exporter": "python",
   "pygments_lexer": "ipython3",
   "version": "3.6.0"
  }
 },
 "nbformat": 4,
 "nbformat_minor": 2
}
